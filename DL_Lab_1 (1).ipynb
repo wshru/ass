{
 "cells": [
  {
   "cell_type": "code",
   "execution_count": 3,
   "id": "dec08729",
   "metadata": {
    "executionInfo": {
     "elapsed": 3726,
     "status": "ok",
     "timestamp": 1685034050569,
     "user": {
      "displayName": "TE_B_52_Siddesh Patankar",
      "userId": "08734077620444832225"
     },
     "user_tz": -330
    },
    "id": "dec08729"
   },
   "outputs": [],
   "source": [
    "import tensorflow as tf\n",
    "import pandas as pd\n",
    "from tensorflow.keras.datasets import boston_housing\n",
    "from sklearn import preprocessing"
   ]
  },
  {
   "cell_type": "code",
   "execution_count": 4,
   "id": "d857ed5f",
   "metadata": {
    "colab": {
     "base_uri": "https://localhost:8080/"
    },
    "executionInfo": {
     "elapsed": 1222,
     "status": "ok",
     "timestamp": 1685034279071,
     "user": {
      "displayName": "TE_B_52_Siddesh Patankar",
      "userId": "08734077620444832225"
     },
     "user_tz": -330
    },
    "id": "d857ed5f",
    "outputId": "c14a5e50-a093-4c05-a7bb-131de20f8c70"
   },
   "outputs": [],
   "source": [
    "(train_x,train_y),(test_x,test_y)=boston_housing.load_data()"
   ]
  },
  {
   "cell_type": "code",
   "execution_count": 5,
   "id": "6a7f0219",
   "metadata": {
    "colab": {
     "base_uri": "https://localhost:8080/"
    },
    "executionInfo": {
     "elapsed": 750,
     "status": "ok",
     "timestamp": 1685034282170,
     "user": {
      "displayName": "TE_B_52_Siddesh Patankar",
      "userId": "08734077620444832225"
     },
     "user_tz": -330
    },
    "id": "6a7f0219",
    "outputId": "5db99bb9-6f24-4ae2-e8d9-eea94dd852b0"
   },
   "outputs": [
    {
     "data": {
      "text/plain": [
       "((array([[1.23247e+00, 0.00000e+00, 8.14000e+00, ..., 2.10000e+01,\n",
       "          3.96900e+02, 1.87200e+01],\n",
       "         [2.17700e-02, 8.25000e+01, 2.03000e+00, ..., 1.47000e+01,\n",
       "          3.95380e+02, 3.11000e+00],\n",
       "         [4.89822e+00, 0.00000e+00, 1.81000e+01, ..., 2.02000e+01,\n",
       "          3.75520e+02, 3.26000e+00],\n",
       "         ...,\n",
       "         [3.46600e-02, 3.50000e+01, 6.06000e+00, ..., 1.69000e+01,\n",
       "          3.62250e+02, 7.83000e+00],\n",
       "         [2.14918e+00, 0.00000e+00, 1.95800e+01, ..., 1.47000e+01,\n",
       "          2.61950e+02, 1.57900e+01],\n",
       "         [1.43900e-02, 6.00000e+01, 2.93000e+00, ..., 1.56000e+01,\n",
       "          3.76700e+02, 4.38000e+00]]),\n",
       "  array([15.2, 42.3, 50. , 21.1, 17.7, 18.5, 11.3, 15.6, 15.6, 14.4, 12.1,\n",
       "         17.9, 23.1, 19.9, 15.7,  8.8, 50. , 22.5, 24.1, 27.5, 10.9, 30.8,\n",
       "         32.9, 24. , 18.5, 13.3, 22.9, 34.7, 16.6, 17.5, 22.3, 16.1, 14.9,\n",
       "         23.1, 34.9, 25. , 13.9, 13.1, 20.4, 20. , 15.2, 24.7, 22.2, 16.7,\n",
       "         12.7, 15.6, 18.4, 21. , 30.1, 15.1, 18.7,  9.6, 31.5, 24.8, 19.1,\n",
       "         22. , 14.5, 11. , 32. , 29.4, 20.3, 24.4, 14.6, 19.5, 14.1, 14.3,\n",
       "         15.6, 10.5,  6.3, 19.3, 19.3, 13.4, 36.4, 17.8, 13.5, 16.5,  8.3,\n",
       "         14.3, 16. , 13.4, 28.6, 43.5, 20.2, 22. , 23. , 20.7, 12.5, 48.5,\n",
       "         14.6, 13.4, 23.7, 50. , 21.7, 39.8, 38.7, 22.2, 34.9, 22.5, 31.1,\n",
       "         28.7, 46. , 41.7, 21. , 26.6, 15. , 24.4, 13.3, 21.2, 11.7, 21.7,\n",
       "         19.4, 50. , 22.8, 19.7, 24.7, 36.2, 14.2, 18.9, 18.3, 20.6, 24.6,\n",
       "         18.2,  8.7, 44. , 10.4, 13.2, 21.2, 37. , 30.7, 22.9, 20. , 19.3,\n",
       "         31.7, 32. , 23.1, 18.8, 10.9, 50. , 19.6,  5. , 14.4, 19.8, 13.8,\n",
       "         19.6, 23.9, 24.5, 25. , 19.9, 17.2, 24.6, 13.5, 26.6, 21.4, 11.9,\n",
       "         22.6, 19.6,  8.5, 23.7, 23.1, 22.4, 20.5, 23.6, 18.4, 35.2, 23.1,\n",
       "         27.9, 20.6, 23.7, 28. , 13.6, 27.1, 23.6, 20.6, 18.2, 21.7, 17.1,\n",
       "          8.4, 25.3, 13.8, 22.2, 18.4, 20.7, 31.6, 30.5, 20.3,  8.8, 19.2,\n",
       "         19.4, 23.1, 23. , 14.8, 48.8, 22.6, 33.4, 21.1, 13.6, 32.2, 13.1,\n",
       "         23.4, 18.9, 23.9, 11.8, 23.3, 22.8, 19.6, 16.7, 13.4, 22.2, 20.4,\n",
       "         21.8, 26.4, 14.9, 24.1, 23.8, 12.3, 29.1, 21. , 19.5, 23.3, 23.8,\n",
       "         17.8, 11.5, 21.7, 19.9, 25. , 33.4, 28.5, 21.4, 24.3, 27.5, 33.1,\n",
       "         16.2, 23.3, 48.3, 22.9, 22.8, 13.1, 12.7, 22.6, 15. , 15.3, 10.5,\n",
       "         24. , 18.5, 21.7, 19.5, 33.2, 23.2,  5. , 19.1, 12.7, 22.3, 10.2,\n",
       "         13.9, 16.3, 17. , 20.1, 29.9, 17.2, 37.3, 45.4, 17.8, 23.2, 29. ,\n",
       "         22. , 18. , 17.4, 34.6, 20.1, 25. , 15.6, 24.8, 28.2, 21.2, 21.4,\n",
       "         23.8, 31. , 26.2, 17.4, 37.9, 17.5, 20. ,  8.3, 23.9,  8.4, 13.8,\n",
       "          7.2, 11.7, 17.1, 21.6, 50. , 16.1, 20.4, 20.6, 21.4, 20.6, 36.5,\n",
       "          8.5, 24.8, 10.8, 21.9, 17.3, 18.9, 36.2, 14.9, 18.2, 33.3, 21.8,\n",
       "         19.7, 31.6, 24.8, 19.4, 22.8,  7.5, 44.8, 16.8, 18.7, 50. , 50. ,\n",
       "         19.5, 20.1, 50. , 17.2, 20.8, 19.3, 41.3, 20.4, 20.5, 13.8, 16.5,\n",
       "         23.9, 20.6, 31.5, 23.3, 16.8, 14. , 33.8, 36.1, 12.8, 18.3, 18.7,\n",
       "         19.1, 29. , 30.1, 50. , 50. , 22. , 11.9, 37.6, 50. , 22.7, 20.8,\n",
       "         23.5, 27.9, 50. , 19.3, 23.9, 22.6, 15.2, 21.7, 19.2, 43.8, 20.3,\n",
       "         33.2, 19.9, 22.5, 32.7, 22. , 17.1, 19. , 15. , 16.1, 25.1, 23.7,\n",
       "         28.7, 37.2, 22.6, 16.4, 25. , 29.8, 22.1, 17.4, 18.1, 30.3, 17.5,\n",
       "         24.7, 12.6, 26.5, 28.7, 13.3, 10.4, 24.4, 23. , 20. , 17.8,  7. ,\n",
       "         11.8, 24.4, 13.8, 19.4, 25.2, 19.4, 19.4, 29.1])),\n",
       " (array([[1.80846e+01, 0.00000e+00, 1.81000e+01, ..., 2.02000e+01,\n",
       "          2.72500e+01, 2.90500e+01],\n",
       "         [1.23290e-01, 0.00000e+00, 1.00100e+01, ..., 1.78000e+01,\n",
       "          3.94950e+02, 1.62100e+01],\n",
       "         [5.49700e-02, 0.00000e+00, 5.19000e+00, ..., 2.02000e+01,\n",
       "          3.96900e+02, 9.74000e+00],\n",
       "         ...,\n",
       "         [1.83377e+00, 0.00000e+00, 1.95800e+01, ..., 1.47000e+01,\n",
       "          3.89610e+02, 1.92000e+00],\n",
       "         [3.58090e-01, 0.00000e+00, 6.20000e+00, ..., 1.74000e+01,\n",
       "          3.91700e+02, 9.71000e+00],\n",
       "         [2.92400e+00, 0.00000e+00, 1.95800e+01, ..., 1.47000e+01,\n",
       "          2.40160e+02, 9.81000e+00]]),\n",
       "  array([ 7.2, 18.8, 19. , 27. , 22.2, 24.5, 31.2, 22.9, 20.5, 23.2, 18.6,\n",
       "         14.5, 17.8, 50. , 20.8, 24.3, 24.2, 19.8, 19.1, 22.7, 12. , 10.2,\n",
       "         20. , 18.5, 20.9, 23. , 27.5, 30.1,  9.5, 22. , 21.2, 14.1, 33.1,\n",
       "         23.4, 20.1,  7.4, 15.4, 23.8, 20.1, 24.5, 33. , 28.4, 14.1, 46.7,\n",
       "         32.5, 29.6, 28.4, 19.8, 20.2, 25. , 35.4, 20.3,  9.7, 14.5, 34.9,\n",
       "         26.6,  7.2, 50. , 32.4, 21.6, 29.8, 13.1, 27.5, 21.2, 23.1, 21.9,\n",
       "         13. , 23.2,  8.1,  5.6, 21.7, 29.6, 19.6,  7. , 26.4, 18.9, 20.9,\n",
       "         28.1, 35.4, 10.2, 24.3, 43.1, 17.6, 15.4, 16.2, 27.1, 21.4, 21.5,\n",
       "         22.4, 25. , 16.6, 18.6, 22. , 42.8, 35.1, 21.5, 36. , 21.9, 24.1,\n",
       "         50. , 26.7, 25. ])))"
      ]
     },
     "execution_count": 5,
     "metadata": {},
     "output_type": "execute_result"
    }
   ],
   "source": [
    "df = boston_housing.load_data()\n",
    "df"
   ]
  },
  {
   "cell_type": "code",
   "execution_count": 6,
   "id": "c664161b",
   "metadata": {
    "colab": {
     "base_uri": "https://localhost:8080/"
    },
    "executionInfo": {
     "elapsed": 893,
     "status": "ok",
     "timestamp": 1685034562446,
     "user": {
      "displayName": "TE_B_52_Siddesh Patankar",
      "userId": "08734077620444832225"
     },
     "user_tz": -330
    },
    "id": "c664161b",
    "outputId": "0c44ac14-0469-49e6-cc25-5d87784fc127"
   },
   "outputs": [
    {
     "name": "stdout",
     "output_type": "stream",
     "text": [
      "train shape:  (404, 13)\n",
      "test shape:  (102, 13)\n",
      "actual train output: (404,)\n",
      "actual test output: (102,)\n"
     ]
    }
   ],
   "source": [
    "print(\"train shape: \",train_x.shape)\n",
    "print(\"test shape: \",test_x.shape)\n",
    "print(\"actual train output:\",train_y.shape)\n",
    "print(\"actual test output:\",test_y.shape)"
   ]
  },
  {
   "cell_type": "code",
   "execution_count": 7,
   "id": "3e6cd10e",
   "metadata": {
    "executionInfo": {
     "elapsed": 1321,
     "status": "ok",
     "timestamp": 1685034323579,
     "user": {
      "displayName": "TE_B_52_Siddesh Patankar",
      "userId": "08734077620444832225"
     },
     "user_tz": -330
    },
    "id": "3e6cd10e"
   },
   "outputs": [],
   "source": [
    "#normalization for preprocessing\n",
    "train_x=preprocessing.normalize(train_x)\n",
    "test_x=preprocessing.normalize(test_x)"
   ]
  },
  {
   "cell_type": "code",
   "execution_count": 8,
   "id": "c1c3fcb3",
   "metadata": {
    "executionInfo": {
     "elapsed": 524,
     "status": "ok",
     "timestamp": 1685037582134,
     "user": {
      "displayName": "TE_B_52_Siddesh Patankar",
      "userId": "08734077620444832225"
     },
     "user_tz": -330
    },
    "id": "c1c3fcb3"
   },
   "outputs": [],
   "source": [
    "from tensorflow.python import metrics\n",
    "from tensorflow.keras.models import Sequential\n",
    "from tensorflow.keras.layers import *\n",
    "def HousePricePredictionModel():  \n",
    "\tmodel=Sequential()\n",
    "\tmodel.add(Dense(128,activation='relu',input_shape=(train_x[0].shape)))\n",
    "\tmodel.add(Dense(64,activation='relu'))\n",
    "\tmodel.add(Dense(32,activation='relu'))\n",
    "\tmodel.add(Dense(1))\n",
    "\tmodel.compile(optimizer='adam',loss='mse',metrics=['mae'])\n",
    "\treturn model"
   ]
  },
  {
   "cell_type": "code",
   "execution_count": 9,
   "id": "d55cfd2b",
   "metadata": {
    "executionInfo": {
     "elapsed": 4,
     "status": "ok",
     "timestamp": 1685037584754,
     "user": {
      "displayName": "TE_B_52_Siddesh Patankar",
      "userId": "08734077620444832225"
     },
     "user_tz": -330
    },
    "id": "d55cfd2b"
   },
   "outputs": [],
   "source": [
    "import numpy as np\n",
    "k=4\n",
    "num_val_samples=len(train_x)\n",
    "num_epochs=100\n",
    "all_scores=[]"
   ]
  },
  {
   "cell_type": "code",
   "execution_count": 10,
   "id": "d96f40b9",
   "metadata": {
    "colab": {
     "base_uri": "https://localhost:8080/"
    },
    "executionInfo": {
     "elapsed": 67695,
     "status": "ok",
     "timestamp": 1685037652446,
     "user": {
      "displayName": "TE_B_52_Siddesh Patankar",
      "userId": "08734077620444832225"
     },
     "user_tz": -330
    },
    "id": "d96f40b9",
    "outputId": "ba18ddb9-1810-41f6-9b3e-0ca7d08ba37a"
   },
   "outputs": [
    {
     "name": "stdout",
     "output_type": "stream",
     "text": [
      "Epoch 1/100\n",
      "404/404 [==============================] - 3s 3ms/step - loss: 135.7267 - mae: 8.4006 - val_loss: 67.0780 - val_mae: 5.8239\n",
      "Epoch 2/100\n",
      "404/404 [==============================] - 1s 3ms/step - loss: 67.0690 - mae: 5.7939 - val_loss: 57.9185 - val_mae: 5.6203\n",
      "Epoch 3/100\n",
      "404/404 [==============================] - 1s 2ms/step - loss: 61.2837 - mae: 5.5465 - val_loss: 59.3531 - val_mae: 5.5242\n",
      "Epoch 4/100\n",
      "404/404 [==============================] - 1s 3ms/step - loss: 59.8999 - mae: 5.4047 - val_loss: 55.1554 - val_mae: 5.3855\n",
      "Epoch 5/100\n",
      "404/404 [==============================] - 1s 3ms/step - loss: 56.7910 - mae: 5.2557 - val_loss: 52.4073 - val_mae: 5.2844\n",
      "Epoch 6/100\n",
      "404/404 [==============================] - 1s 3ms/step - loss: 53.7245 - mae: 5.0386 - val_loss: 66.9548 - val_mae: 6.6687\n",
      "Epoch 7/100\n",
      "404/404 [==============================] - 1s 3ms/step - loss: 52.8847 - mae: 4.9929 - val_loss: 51.4101 - val_mae: 5.0770\n",
      "Epoch 8/100\n",
      "404/404 [==============================] - 1s 3ms/step - loss: 50.0561 - mae: 4.7896 - val_loss: 49.7350 - val_mae: 5.3269\n",
      "Epoch 9/100\n",
      "404/404 [==============================] - 1s 3ms/step - loss: 48.9972 - mae: 4.7905 - val_loss: 51.0404 - val_mae: 5.5195\n",
      "Epoch 10/100\n",
      "404/404 [==============================] - 1s 3ms/step - loss: 45.3901 - mae: 4.5378 - val_loss: 43.1691 - val_mae: 4.6655\n",
      "Epoch 11/100\n",
      "404/404 [==============================] - 1s 3ms/step - loss: 44.0167 - mae: 4.5368 - val_loss: 46.0557 - val_mae: 4.6924\n",
      "Epoch 12/100\n",
      "404/404 [==============================] - 1s 3ms/step - loss: 42.7098 - mae: 4.4190 - val_loss: 45.4928 - val_mae: 4.6617\n",
      "Epoch 13/100\n",
      "404/404 [==============================] - 1s 3ms/step - loss: 39.5448 - mae: 4.3180 - val_loss: 37.0078 - val_mae: 4.2363\n",
      "Epoch 14/100\n",
      "404/404 [==============================] - 1s 3ms/step - loss: 37.9107 - mae: 4.1985 - val_loss: 38.2755 - val_mae: 4.7054\n",
      "Epoch 15/100\n",
      "404/404 [==============================] - 1s 3ms/step - loss: 38.1975 - mae: 4.3003 - val_loss: 34.3125 - val_mae: 4.1801\n",
      "Epoch 16/100\n",
      "404/404 [==============================] - 1s 3ms/step - loss: 35.2492 - mae: 4.2118 - val_loss: 32.5922 - val_mae: 4.0666\n",
      "Epoch 17/100\n",
      "404/404 [==============================] - 1s 3ms/step - loss: 34.4130 - mae: 4.1116 - val_loss: 32.0925 - val_mae: 4.0390\n",
      "Epoch 18/100\n",
      "404/404 [==============================] - 1s 3ms/step - loss: 33.0356 - mae: 4.1095 - val_loss: 34.9345 - val_mae: 4.0718\n",
      "Epoch 19/100\n",
      "404/404 [==============================] - 1s 3ms/step - loss: 31.4442 - mae: 4.0566 - val_loss: 30.9462 - val_mae: 4.1520\n",
      "Epoch 20/100\n",
      "404/404 [==============================] - 1s 3ms/step - loss: 28.9713 - mae: 3.8924 - val_loss: 35.3652 - val_mae: 4.1330\n",
      "Epoch 21/100\n",
      "404/404 [==============================] - 1s 3ms/step - loss: 29.2786 - mae: 4.0128 - val_loss: 44.8103 - val_mae: 4.7174\n",
      "Epoch 22/100\n",
      "404/404 [==============================] - 1s 3ms/step - loss: 27.8879 - mae: 3.8002 - val_loss: 30.3789 - val_mae: 3.9044\n",
      "Epoch 23/100\n",
      "404/404 [==============================] - 1s 3ms/step - loss: 26.1249 - mae: 3.7635 - val_loss: 31.3134 - val_mae: 4.4824\n",
      "Epoch 24/100\n",
      "404/404 [==============================] - 1s 3ms/step - loss: 24.8561 - mae: 3.5978 - val_loss: 28.0241 - val_mae: 3.7630\n",
      "Epoch 25/100\n",
      "404/404 [==============================] - 1s 3ms/step - loss: 24.7771 - mae: 3.5858 - val_loss: 27.7820 - val_mae: 3.8522\n",
      "Epoch 26/100\n",
      "404/404 [==============================] - 1s 3ms/step - loss: 22.5646 - mae: 3.4558 - val_loss: 29.0058 - val_mae: 3.8322\n",
      "Epoch 27/100\n",
      "404/404 [==============================] - 1s 3ms/step - loss: 20.0283 - mae: 3.2533 - val_loss: 29.9639 - val_mae: 3.9042\n",
      "Epoch 28/100\n",
      "404/404 [==============================] - 1s 3ms/step - loss: 22.0013 - mae: 3.4331 - val_loss: 31.6629 - val_mae: 4.2530\n",
      "Epoch 29/100\n",
      "404/404 [==============================] - 1s 3ms/step - loss: 20.9995 - mae: 3.4536 - val_loss: 30.6626 - val_mae: 4.1629\n",
      "Epoch 30/100\n",
      "404/404 [==============================] - 1s 3ms/step - loss: 19.3352 - mae: 3.1577 - val_loss: 29.0852 - val_mae: 3.8427\n",
      "Epoch 31/100\n",
      "404/404 [==============================] - 1s 3ms/step - loss: 20.8586 - mae: 3.2936 - val_loss: 39.6748 - val_mae: 4.5095\n",
      "Epoch 32/100\n",
      "404/404 [==============================] - 1s 3ms/step - loss: 19.9888 - mae: 3.3131 - val_loss: 29.3108 - val_mae: 3.8029\n",
      "Epoch 33/100\n",
      "404/404 [==============================] - 1s 3ms/step - loss: 19.6958 - mae: 3.1735 - val_loss: 28.6368 - val_mae: 3.8054\n",
      "Epoch 34/100\n",
      "404/404 [==============================] - 1s 3ms/step - loss: 18.7402 - mae: 3.2286 - val_loss: 36.7225 - val_mae: 4.2420\n",
      "Epoch 35/100\n",
      "404/404 [==============================] - 1s 3ms/step - loss: 20.1636 - mae: 3.2358 - val_loss: 29.9323 - val_mae: 3.7861\n",
      "Epoch 36/100\n",
      "404/404 [==============================] - 1s 3ms/step - loss: 19.3649 - mae: 3.2052 - val_loss: 29.7413 - val_mae: 3.8072\n",
      "Epoch 37/100\n",
      "404/404 [==============================] - 1s 3ms/step - loss: 19.9473 - mae: 3.2279 - val_loss: 36.5137 - val_mae: 4.0803\n",
      "Epoch 38/100\n",
      "404/404 [==============================] - 1s 3ms/step - loss: 18.2395 - mae: 3.1205 - val_loss: 44.9553 - val_mae: 4.8214\n",
      "Epoch 39/100\n",
      "404/404 [==============================] - 1s 3ms/step - loss: 20.1088 - mae: 3.2228 - val_loss: 36.2545 - val_mae: 4.1657\n",
      "Epoch 40/100\n",
      "404/404 [==============================] - 1s 3ms/step - loss: 18.9889 - mae: 3.1947 - val_loss: 30.8157 - val_mae: 3.8309\n",
      "Epoch 41/100\n",
      "404/404 [==============================] - 1s 3ms/step - loss: 16.4171 - mae: 2.9574 - val_loss: 27.9167 - val_mae: 3.9189\n",
      "Epoch 42/100\n",
      "404/404 [==============================] - 1s 3ms/step - loss: 19.2282 - mae: 3.1820 - val_loss: 32.8144 - val_mae: 3.9594\n",
      "Epoch 43/100\n",
      "404/404 [==============================] - 1s 3ms/step - loss: 18.6255 - mae: 3.1129 - val_loss: 29.2190 - val_mae: 3.7134\n",
      "Epoch 44/100\n",
      "404/404 [==============================] - 1s 3ms/step - loss: 18.4289 - mae: 3.0943 - val_loss: 33.1243 - val_mae: 4.0080\n",
      "Epoch 45/100\n",
      "404/404 [==============================] - 1s 3ms/step - loss: 18.6954 - mae: 3.0825 - val_loss: 31.1264 - val_mae: 3.8640\n",
      "Epoch 46/100\n",
      "404/404 [==============================] - 1s 3ms/step - loss: 18.7835 - mae: 3.1134 - val_loss: 35.6018 - val_mae: 4.1666\n",
      "Epoch 47/100\n",
      "404/404 [==============================] - 1s 3ms/step - loss: 18.0313 - mae: 3.1296 - val_loss: 31.4521 - val_mae: 3.9053\n",
      "Epoch 48/100\n",
      "404/404 [==============================] - 1s 3ms/step - loss: 17.4424 - mae: 3.0489 - val_loss: 30.2527 - val_mae: 3.8185\n",
      "Epoch 49/100\n",
      "404/404 [==============================] - 1s 3ms/step - loss: 16.2972 - mae: 2.9839 - val_loss: 32.6207 - val_mae: 3.9137\n",
      "Epoch 50/100\n",
      "404/404 [==============================] - 1s 3ms/step - loss: 17.2399 - mae: 3.0586 - val_loss: 38.4723 - val_mae: 4.4140\n",
      "Epoch 51/100\n",
      "404/404 [==============================] - 1s 3ms/step - loss: 18.5457 - mae: 3.1323 - val_loss: 61.5755 - val_mae: 6.2798\n",
      "Epoch 52/100\n",
      "404/404 [==============================] - 1s 3ms/step - loss: 16.0200 - mae: 3.0068 - val_loss: 30.2122 - val_mae: 3.8125\n",
      "Epoch 53/100\n",
      "404/404 [==============================] - 1s 3ms/step - loss: 19.0221 - mae: 3.0969 - val_loss: 32.4059 - val_mae: 4.0086\n",
      "Epoch 54/100\n",
      "404/404 [==============================] - 1s 3ms/step - loss: 20.0986 - mae: 3.2009 - val_loss: 35.0156 - val_mae: 4.1464\n",
      "Epoch 55/100\n",
      "404/404 [==============================] - 1s 3ms/step - loss: 18.4579 - mae: 3.1259 - val_loss: 34.8754 - val_mae: 4.3268\n",
      "Epoch 56/100\n",
      "404/404 [==============================] - 1s 3ms/step - loss: 17.9765 - mae: 3.1296 - val_loss: 30.3807 - val_mae: 3.7507\n",
      "Epoch 57/100\n",
      "404/404 [==============================] - 1s 3ms/step - loss: 16.6697 - mae: 2.9397 - val_loss: 30.5048 - val_mae: 3.7413\n",
      "Epoch 58/100\n",
      "404/404 [==============================] - 1s 3ms/step - loss: 17.1370 - mae: 3.0419 - val_loss: 31.6501 - val_mae: 3.8943\n",
      "Epoch 59/100\n",
      "404/404 [==============================] - 1s 3ms/step - loss: 17.1219 - mae: 2.9424 - val_loss: 41.0804 - val_mae: 4.4653\n",
      "Epoch 60/100\n",
      "404/404 [==============================] - 1s 3ms/step - loss: 17.8118 - mae: 3.1108 - val_loss: 33.6666 - val_mae: 3.9184\n",
      "Epoch 61/100\n",
      "404/404 [==============================] - 1s 3ms/step - loss: 19.2580 - mae: 3.1863 - val_loss: 28.1871 - val_mae: 3.6924\n",
      "Epoch 62/100\n",
      "404/404 [==============================] - 2s 4ms/step - loss: 15.7689 - mae: 2.9620 - val_loss: 29.3189 - val_mae: 3.8063\n",
      "Epoch 63/100\n",
      "404/404 [==============================] - 2s 4ms/step - loss: 19.2860 - mae: 3.0691 - val_loss: 29.8812 - val_mae: 3.7912\n",
      "Epoch 64/100\n",
      "404/404 [==============================] - 1s 3ms/step - loss: 17.0713 - mae: 2.9840 - val_loss: 29.3782 - val_mae: 3.7475\n",
      "Epoch 65/100\n",
      "404/404 [==============================] - 1s 3ms/step - loss: 16.9044 - mae: 2.9845 - val_loss: 28.6928 - val_mae: 3.6904\n",
      "Epoch 66/100\n",
      "404/404 [==============================] - 1s 3ms/step - loss: 17.3773 - mae: 3.0895 - val_loss: 32.4143 - val_mae: 3.9559\n",
      "Epoch 67/100\n",
      "404/404 [==============================] - 1s 3ms/step - loss: 16.7878 - mae: 2.9843 - val_loss: 28.2700 - val_mae: 3.7127\n",
      "Epoch 68/100\n",
      "404/404 [==============================] - 1s 3ms/step - loss: 16.2156 - mae: 2.9073 - val_loss: 28.3181 - val_mae: 3.6530\n",
      "Epoch 69/100\n",
      "404/404 [==============================] - 1s 3ms/step - loss: 19.6717 - mae: 3.1684 - val_loss: 31.2144 - val_mae: 4.0504\n",
      "Epoch 70/100\n",
      "404/404 [==============================] - 1s 3ms/step - loss: 21.5010 - mae: 3.1797 - val_loss: 33.4843 - val_mae: 3.9079\n",
      "Epoch 71/100\n",
      "404/404 [==============================] - 1s 3ms/step - loss: 16.2419 - mae: 2.8687 - val_loss: 31.4250 - val_mae: 4.0175\n",
      "Epoch 72/100\n",
      "404/404 [==============================] - 1s 3ms/step - loss: 16.7633 - mae: 2.8936 - val_loss: 33.8924 - val_mae: 3.8478\n",
      "Epoch 73/100\n",
      "404/404 [==============================] - 1s 3ms/step - loss: 15.5077 - mae: 2.9053 - val_loss: 28.2760 - val_mae: 3.8167\n",
      "Epoch 74/100\n",
      "404/404 [==============================] - 1s 3ms/step - loss: 17.0680 - mae: 2.9900 - val_loss: 29.7079 - val_mae: 3.7430\n",
      "Epoch 75/100\n",
      "404/404 [==============================] - 1s 3ms/step - loss: 16.3042 - mae: 2.9015 - val_loss: 39.9506 - val_mae: 4.5960\n",
      "Epoch 76/100\n",
      "404/404 [==============================] - 1s 3ms/step - loss: 16.5897 - mae: 2.8990 - val_loss: 30.1996 - val_mae: 3.7490\n",
      "Epoch 77/100\n",
      "404/404 [==============================] - 1s 3ms/step - loss: 18.3191 - mae: 3.0561 - val_loss: 29.6500 - val_mae: 3.6783\n",
      "Epoch 78/100\n",
      "404/404 [==============================] - 1s 3ms/step - loss: 15.9198 - mae: 2.9300 - val_loss: 35.0907 - val_mae: 3.9360\n",
      "Epoch 79/100\n",
      "404/404 [==============================] - 1s 3ms/step - loss: 14.8907 - mae: 2.8614 - val_loss: 33.2196 - val_mae: 3.9177\n",
      "Epoch 80/100\n",
      "404/404 [==============================] - 1s 3ms/step - loss: 16.6776 - mae: 2.9540 - val_loss: 28.2646 - val_mae: 3.5939\n",
      "Epoch 81/100\n",
      "404/404 [==============================] - 1s 3ms/step - loss: 15.7371 - mae: 2.8373 - val_loss: 28.0558 - val_mae: 3.5737\n",
      "Epoch 82/100\n",
      "404/404 [==============================] - 1s 3ms/step - loss: 15.2377 - mae: 2.8175 - val_loss: 26.5462 - val_mae: 3.4866\n",
      "Epoch 83/100\n",
      "404/404 [==============================] - 1s 3ms/step - loss: 16.6354 - mae: 2.8583 - val_loss: 30.9946 - val_mae: 3.7981\n",
      "Epoch 84/100\n",
      "404/404 [==============================] - 1s 3ms/step - loss: 15.7206 - mae: 2.8772 - val_loss: 36.9040 - val_mae: 4.2904\n",
      "Epoch 85/100\n",
      "404/404 [==============================] - 1s 3ms/step - loss: 16.2899 - mae: 2.8832 - val_loss: 29.6836 - val_mae: 4.0226\n",
      "Epoch 86/100\n",
      "404/404 [==============================] - 1s 3ms/step - loss: 15.0059 - mae: 2.9207 - val_loss: 31.6690 - val_mae: 3.7338\n",
      "Epoch 87/100\n",
      "404/404 [==============================] - 1s 3ms/step - loss: 17.6152 - mae: 3.0191 - val_loss: 31.1396 - val_mae: 3.7158\n",
      "Epoch 88/100\n",
      "404/404 [==============================] - 1s 3ms/step - loss: 15.7659 - mae: 2.8255 - val_loss: 27.8398 - val_mae: 3.6533\n",
      "Epoch 89/100\n",
      "404/404 [==============================] - 1s 3ms/step - loss: 15.0677 - mae: 2.8224 - val_loss: 33.1127 - val_mae: 4.0077\n",
      "Epoch 90/100\n",
      "404/404 [==============================] - 1s 3ms/step - loss: 15.3756 - mae: 2.8398 - val_loss: 29.5262 - val_mae: 3.6563\n",
      "Epoch 91/100\n",
      "404/404 [==============================] - 1s 3ms/step - loss: 14.0455 - mae: 2.6780 - val_loss: 29.5622 - val_mae: 3.6739\n",
      "Epoch 92/100\n",
      "404/404 [==============================] - 1s 3ms/step - loss: 16.0785 - mae: 2.8967 - val_loss: 26.3537 - val_mae: 3.5095\n",
      "Epoch 93/100\n",
      "404/404 [==============================] - 1s 3ms/step - loss: 14.7861 - mae: 2.7676 - val_loss: 26.9297 - val_mae: 3.5047\n",
      "Epoch 94/100\n",
      "404/404 [==============================] - 1s 3ms/step - loss: 15.2845 - mae: 2.8615 - val_loss: 31.1331 - val_mae: 3.9403\n",
      "Epoch 95/100\n",
      "404/404 [==============================] - 1s 3ms/step - loss: 15.5107 - mae: 2.8425 - val_loss: 35.1334 - val_mae: 4.1321\n",
      "Epoch 96/100\n",
      "404/404 [==============================] - 1s 3ms/step - loss: 15.8163 - mae: 2.8555 - val_loss: 39.3618 - val_mae: 4.1461\n",
      "Epoch 97/100\n",
      "404/404 [==============================] - 1s 3ms/step - loss: 14.7510 - mae: 2.7681 - val_loss: 30.6451 - val_mae: 3.6824\n",
      "Epoch 98/100\n",
      "404/404 [==============================] - 1s 3ms/step - loss: 15.0734 - mae: 2.7475 - val_loss: 29.6031 - val_mae: 3.7110\n",
      "Epoch 99/100\n",
      "404/404 [==============================] - 1s 3ms/step - loss: 16.3492 - mae: 2.9155 - val_loss: 40.8513 - val_mae: 4.6035\n",
      "Epoch 100/100\n",
      "404/404 [==============================] - 1s 3ms/step - loss: 14.9468 - mae: 2.7685 - val_loss: 34.6229 - val_mae: 4.0845\n"
     ]
    }
   ],
   "source": [
    "model= HousePricePredictionModel()\n",
    "history=model.fit(x=train_x,y=train_y,epochs=num_epochs,batch_size=1,verbose=1,validation_data=(test_x,test_y))"
   ]
  },
  {
   "cell_type": "code",
   "execution_count": 12,
   "id": "ddfaa157",
   "metadata": {
    "colab": {
     "base_uri": "https://localhost:8080/"
    },
    "executionInfo": {
     "elapsed": 508,
     "status": "ok",
     "timestamp": 1685034841993,
     "user": {
      "displayName": "TE_B_52_Siddesh Patankar",
      "userId": "08734077620444832225"
     },
     "user_tz": -330
    },
    "id": "ddfaa157",
    "outputId": "12b80eb5-5bc6-41dd-af2b-04d17a578bad"
   },
   "outputs": [
    {
     "name": "stdout",
     "output_type": "stream",
     "text": [
      "4/4 [==============================] - 0s 17ms/step - loss: 34.6229 - mae: 4.0845\n",
      "Mean squared error on test data:  34.62287902832031\n",
      "Mean absolute error on test data:  4.084486484527588\n"
     ]
    }
   ],
   "source": [
    "mse, mae = model.evaluate(test_x, test_y)\n",
    "print('Mean squared error on test data: ', mse)\n",
    "print('Mean absolute error on test data: ', mae)"
   ]
  }
 ],
 "metadata": {
  "colab": {
   "provenance": []
  },
  "kernelspec": {
   "display_name": "Python 3 (ipykernel)",
   "language": "python",
   "name": "python3"
  },
  "language_info": {
   "codemirror_mode": {
    "name": "ipython",
    "version": 3
   },
   "file_extension": ".py",
   "mimetype": "text/x-python",
   "name": "python",
   "nbconvert_exporter": "python",
   "pygments_lexer": "ipython3",
   "version": "3.11.0"
  }
 },
 "nbformat": 4,
 "nbformat_minor": 5
}
